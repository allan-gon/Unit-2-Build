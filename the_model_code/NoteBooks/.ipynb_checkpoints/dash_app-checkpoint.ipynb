{
 "cells": [
  {
   "cell_type": "markdown",
   "metadata": {},
   "source": [
    "# Imports"
   ]
  },
  {
   "cell_type": "code",
   "execution_count": 1,
   "metadata": {},
   "outputs": [],
   "source": [
    "import dash\n",
    "import dash_core_components as dcc\n",
    "import dash_html_components as html"
   ]
  },
  {
   "cell_type": "markdown",
   "metadata": {},
   "source": [
    "# Need this at start"
   ]
  },
  {
   "cell_type": "code",
   "execution_count": 2,
   "metadata": {},
   "outputs": [],
   "source": [
    "app = dash.Dash()"
   ]
  },
  {
   "cell_type": "code",
   "execution_count": 3,
   "metadata": {},
   "outputs": [],
   "source": [
    "app.layout = html.Div([\n",
    "    html.Label(\"What type will the media become?\"),\n",
    "    dcc.Dropdown(\n",
    "        id='Type',\n",
    "        options = [\n",
    "            {'label':'TV','value':'TV'},\n",
    "            {'label':'Movie','value':'Movie'},\n",
    "            {'label':'OVA','value':'OVA'},\n",
    "            {'label':'Special','value':'Special'},\n",
    "            {'label':'ONA','value':'ONA'},\n",
    "            {'label':'Music','value':'Music'}\n",
    "        ],\n",
    "        value='TV'\n",
    "    ),\n",
    "    html.Label(\"How long will the episode(s) be?\"),\n",
    "    dcc.Dropdown(\n",
    "        id='Duration',\n",
    "        options = [\n",
    "            {'label':'Less than a minute','value':'less than a minute'},\n",
    "            {'label':'1-20 minutes','value':'1-20'},\n",
    "            {'label':'21-30 minutes','value':'21-30'},\n",
    "            {'label':'31-59 minutes','value':'31-59'},\n",
    "            {'label':'1 hour +','value':'60+'}\n",
    "        ],\n",
    "        value='21-30'\n",
    "    ),\n",
    "    html.Label(\"What was the source material?\"),\n",
    "    dcc.Dropdown(\n",
    "        id='Source',\n",
    "        options = [\n",
    "            {'label':'Book','value':'book'},\n",
    "            {'label':'Game','value':'game'},\n",
    "            {'label':'Manga','value':'manga'},\n",
    "            {'label':'Music','value':'music'},\n",
    "            {'label':'Novel','value':'novel'},\n",
    "            {'label':'Radio','value':'radio'},\n",
    "            {'label':'Original','value':'original'},\n",
    "            {'label':'Other','value':'other'},\n",
    "            {'label':'Uknown','value':'unknown'}\n",
    "        ],\n",
    "        value='manga'\n",
    "    ),\n",
    "    html.Label(\"What's the maturity rating?\"),\n",
    "    dcc.Dropdown(\n",
    "        id='Rating',\n",
    "        options = [\n",
    "            {'label':'G - All Ages','value':'G - All Ages'},\n",
    "            {'label':'PG','value':'PG - Children'},\n",
    "            {'label':'PG-13','value':'PG-13 - Teens 13 or older'},\n",
    "            {'label':'R - 17+','value':'R - 17+ (violence & profanity)'},\n",
    "            {'label':'R+','value':'R+ - Mild Nudity'},\n",
    "            {'label':'Rx','value':'Rx - Hentai'},\n",
    "            {'label':'None','value':'None'}\n",
    "        ],\n",
    "        value='PG-13 - Teens 13 or older'\n",
    "    ),\n",
    "    html.Label(\"What studio will be animating it?\"),\n",
    "    dcc.Dropdown(\n",
    "        id='Studio',\n",
    "        options = [\n",
    "            {'label':'Toei','value':'Toei Animation'},\n",
    "            {'label':'Sunrise','value':'Sunrise'},\n",
    "            {'label':'Madhouse','value':'Madhouse'},\n",
    "            {'label':'J.C.Staff','value':'J.C.Staff'},\n",
    "            {'label':'Production I.G','value':'Production I.G'},\n",
    "            {'label':'Studio Pierrot','value':'Studio Pierrot'},\n",
    "            {'label':'TMS Entertainment','value':'TMS Entertainment'},\n",
    "            {'label':'Studio Deen','value':'Studio Deen'},\n",
    "            {'label':'Nippon Animation','value':'Nippon Animation'},\n",
    "            {'label':'Other','value':'other'}\n",
    "        ],\n",
    "        value='Madhouse'\n",
    "    ),\n",
    "    html.Br(),\n",
    "    html.Br(),\n",
    "    \n",
    "    html.Div([\n",
    "            html.Label(\"How many episodes will the show/movie have?\"),\n",
    "            dcc.Input(\n",
    "                placeholder= \"Input the number of episodes\",\n",
    "                type = 'number',\n",
    "                value = ''\n",
    "            )\n",
    "    ]),\n",
    "    html.Br(),\n",
    "    html.Br(),\n",
    "    \n",
    "    html.Div([\n",
    "            html.Label(\"How how much related material does the show/movie have?\"),\n",
    "            dcc.Input(\n",
    "                placeholder= \"Input the number of related material\",\n",
    "                type = 'number',\n",
    "                value = ''\n",
    "            )\n",
    "    ]),\n",
    "    html.Br(),\n",
    "    html.Br(),\n",
    "    html.Label(\"Check all genres that apply\"),\n",
    "    dcc.Checklist(\n",
    "        options = [\n",
    "            {'label':'Yaoi','value':'Yaoi'},\n",
    "            {'label':'Yuri','value':'Yuri'},\n",
    "            {'label':'Ecchi','value':'Ecchi'},\n",
    "            {'label':'Harem','value':'Harem'},\n",
    "            {'label':'Hentai','value':'Hentai'},\n",
    "            {'label':'Josei','value':'Josei'},\n",
    "            {'label':'Shounen Ai','value':'Shounen Ai'},\n",
    "            {'label':'Shoujo Ai','value':'Shoujo Ai'},\n",
    "            {'label':'Romance','value':'Romance'}\n",
    "        ]\n",
    "    ),\n",
    "    dcc.Checklist(\n",
    "        options = [\n",
    "            {'label':'Martial Arts','value':'Martial Arts'},\n",
    "            {'label':'Sports','value':'Sports'}\n",
    "        ]\n",
    "    ),\n",
    "    dcc.Checklist(\n",
    "        options = [\n",
    "            {'label':'Kids','value':'Kids'},\n",
    "            {'label':'Seinen','value':'Seinen'},\n",
    "            {'label':'Shoujo','value':'Shoujo'},\n",
    "            {'label':'Shounen','value':'Shounen'},\n",
    "            {'label':'Super Power','value':'Super Power'},\n",
    "            {'label':'Slice of Life','value':'Slice of Life'},\n",
    "            {'label':'School','value':'School'},\n",
    "            {'label':'Action','value':'Action'}\n",
    "        ]\n",
    "    ),\n",
    "    dcc.Checklist(\n",
    "        options = [\n",
    "            {'label':'Adventure','value':'Adventure'},\n",
    "            {'label':'Mystery','value':'Mystery'},\n",
    "            {'label':'Psychological','value':'Psychological'},\n",
    "            {'label':'Dementia','value':'Dementia'}\n",
    "        ]\n",
    "    ),\n",
    "    dcc.Checklist(\n",
    "        options = [\n",
    "            {'label':'Drama','value':'Drama'},\n",
    "            {'label':'Horror','value':'Horror'},\n",
    "            {'label':'Thriller','value':'Thriller'}\n",
    "        ]\n",
    "    ),\n",
    "    dcc.Checklist(\n",
    "        options = [\n",
    "            {'label':'Demons','value':'Demons'},\n",
    "            {'label':'Fantasy','value':'Fantasy'},\n",
    "            {'label':'Game','value':'Game'},\n",
    "            {'label':'Magic','value':'Magic'},\n",
    "            {'label':'Supernatural','value':'Supernatural'},\n",
    "            {'label':'Vampire','value':'Vampire'},\n",
    "            {'label':'Sci-Fi','value':'Sci-Fi'},\n",
    "            {'label':'Cars','value':'Cars'},\n",
    "            {'label':'Space','value':'Space'}\n",
    "        ]\n",
    "    ),\n",
    "    dcc.Checklist(\n",
    "        options = [\n",
    "            {'label':'Comedy','value':'Comedy'},\n",
    "            {'label':'Parody','value':'Parody'}\n",
    "        ]\n",
    "    ),\n",
    "    dcc.Checklist(\n",
    "        options = [\n",
    "            {'label':'Military','value':'Military'},\n",
    "            {'label':'Police','value':'Police'},\n",
    "            {'label':'Mecha','value':'Mecha'}\n",
    "        ]\n",
    "    ),\n",
    "    dcc.Checklist(\n",
    "        options = [\n",
    "            {'label':'Historical','value':'Historical'},\n",
    "            {'label':'Samurai','value':'Samurai'},\n",
    "            {'label':'Music','value':'Musice'}\n",
    "        ]\n",
    "    ),\n",
    "    \n",
    "])"
   ]
  },
  {
   "cell_type": "code",
   "execution_count": 48,
   "metadata": {},
   "outputs": [],
   "source": [
    "#and check box for genre, int input fields\n",
    "#for episodes and num_related\n",
    "#callbacks to save the variables"
   ]
  },
  {
   "cell_type": "code",
   "execution_count": null,
   "metadata": {},
   "outputs": [],
   "source": [
    "# hentai = ['Yaoi','Yuri','Ecchi','Harem','Hentai','Josei','Shounen Ai','Shoujo Ai','Romance']\n",
    "# sports = ['Martial Arts','Sports']\n",
    "# youth = ['Kids','Seinen','Shoujo','Shounen','Super Power','Slice of Life','School','Action']\n",
    "# adv_psych = ['Adventure','Mystery','Psychological','Dementia']\n",
    "# drama_thrill = ['Drama','Horror','Thriller']\n",
    "# fant_scien = ['Demons','Fantasy','Game','Magic','Supernatural','Vampire','Sci-Fi','Cars','Space']\n",
    "# comedy = ['Comedy','Parody']\n",
    "\n",
    "# military = ['Military','Police','Mecha']\n",
    "# misc = ['Historical','Samurai','Music']"
   ]
  },
  {
   "cell_type": "code",
   "execution_count": 14,
   "metadata": {},
   "outputs": [],
   "source": [
    "import pandas as pd\n",
    "import numpy as np"
   ]
  },
  {
   "cell_type": "code",
   "execution_count": 15,
   "metadata": {},
   "outputs": [],
   "source": [
    "df = pd.read_csv(\"../DATA/clean.csv\")"
   ]
  },
  {
   "cell_type": "code",
   "execution_count": 16,
   "metadata": {},
   "outputs": [
    {
     "data": {
      "text/html": [
       "<div>\n",
       "<style scoped>\n",
       "    .dataframe tbody tr th:only-of-type {\n",
       "        vertical-align: middle;\n",
       "    }\n",
       "\n",
       "    .dataframe tbody tr th {\n",
       "        vertical-align: top;\n",
       "    }\n",
       "\n",
       "    .dataframe thead th {\n",
       "        text-align: right;\n",
       "    }\n",
       "</style>\n",
       "<table border=\"1\" class=\"dataframe\">\n",
       "  <thead>\n",
       "    <tr style=\"text-align: right;\">\n",
       "      <th></th>\n",
       "      <th>type</th>\n",
       "      <th>source</th>\n",
       "      <th>episodes</th>\n",
       "      <th>duration</th>\n",
       "      <th>rating</th>\n",
       "      <th>studio</th>\n",
       "      <th>num_related</th>\n",
       "      <th>hentai/romance</th>\n",
       "      <th>sports</th>\n",
       "      <th>youth</th>\n",
       "      <th>adventure/psychological</th>\n",
       "      <th>drama</th>\n",
       "      <th>fantasy/sci-fi</th>\n",
       "      <th>comedy</th>\n",
       "      <th>military</th>\n",
       "      <th>misc</th>\n",
       "      <th>Unknown</th>\n",
       "      <th>class</th>\n",
       "    </tr>\n",
       "  </thead>\n",
       "  <tbody>\n",
       "    <tr>\n",
       "      <th>0</th>\n",
       "      <td>TV</td>\n",
       "      <td>Manga</td>\n",
       "      <td>12</td>\n",
       "      <td>21-30</td>\n",
       "      <td>PG-13 - Teens 13 or older</td>\n",
       "      <td>other</td>\n",
       "      <td>2</td>\n",
       "      <td>True</td>\n",
       "      <td>False</td>\n",
       "      <td>True</td>\n",
       "      <td>False</td>\n",
       "      <td>False</td>\n",
       "      <td>True</td>\n",
       "      <td>True</td>\n",
       "      <td>False</td>\n",
       "      <td>False</td>\n",
       "      <td>False</td>\n",
       "      <td>Really good</td>\n",
       "    </tr>\n",
       "  </tbody>\n",
       "</table>\n",
       "</div>"
      ],
      "text/plain": [
       "  type source  episodes duration                     rating studio  \\\n",
       "0   TV  Manga        12    21-30  PG-13 - Teens 13 or older  other   \n",
       "\n",
       "   num_related  hentai/romance  sports  youth  adventure/psychological  drama  \\\n",
       "0            2            True   False   True                    False  False   \n",
       "\n",
       "   fantasy/sci-fi  comedy  military   misc  Unknown        class  \n",
       "0            True    True     False  False    False  Really good  "
      ]
     },
     "execution_count": 16,
     "metadata": {},
     "output_type": "execute_result"
    }
   ],
   "source": [
    "df.head(1)"
   ]
  },
  {
   "cell_type": "code",
   "execution_count": 42,
   "metadata": {},
   "outputs": [
    {
     "data": {
      "text/plain": [
       "other                9847\n",
       "Toei Animation        718\n",
       "Sunrise               440\n",
       "Madhouse              306\n",
       "J.C.Staff             301\n",
       "Production I.G        246\n",
       "Studio Pierrot        239\n",
       "TMS Entertainment     237\n",
       "Studio Deen           235\n",
       "Nippon Animation      199\n",
       "Name: studio, dtype: int64"
      ]
     },
     "execution_count": 42,
     "metadata": {},
     "output_type": "execute_result"
    }
   ],
   "source": [
    "df.studio.value_counts()"
   ]
  },
  {
   "cell_type": "markdown",
   "metadata": {},
   "source": [
    "# Consider binning source"
   ]
  },
  {
   "cell_type": "code",
   "execution_count": null,
   "metadata": {},
   "outputs": [],
   "source": [
    "'''\n",
    "Unknown          3894\n",
    "Original         3119\n",
    "Manga            2748\n",
    "Game              569\n",
    "Light novel       515\n",
    "Other             380\n",
    "Novel             328\n",
    "Visual novel      311\n",
    "Music             310\n",
    "4-koma manga      212\n",
    "Web manga         134\n",
    "Book               91\n",
    "Picture book       87\n",
    "Card game          54\n",
    "Radio               9\n",
    "Digital manga       7\n",
    "'''"
   ]
  },
  {
   "cell_type": "code",
   "execution_count": 22,
   "metadata": {},
   "outputs": [],
   "source": [
    "x = df.source.str.lower().unique()"
   ]
  },
  {
   "cell_type": "code",
   "execution_count": 30,
   "metadata": {},
   "outputs": [],
   "source": [
    "bins = set()\n",
    "for i in x:\n",
    "    if 'manga' in i:\n",
    "        bins.add('manga')\n",
    "    elif i == 'original':\n",
    "        bins.add(i)\n",
    "    elif 'novel' in i:\n",
    "        bins.add('novel')\n",
    "    elif i == 'unknown':\n",
    "        bins.add(i)\n",
    "    elif i == 'other':\n",
    "        bins.add(i)\n",
    "    elif i == 'music':\n",
    "        bins.add(i)\n",
    "    elif 'game' in i:\n",
    "        bins.add('game')\n",
    "    elif 'book' in  i:\n",
    "        bins.add('book')\n",
    "    elif i == 'radio':\n",
    "        bins.add(i)\n",
    "    else:\n",
    "        raise ValueError"
   ]
  },
  {
   "cell_type": "code",
   "execution_count": 31,
   "metadata": {},
   "outputs": [
    {
     "data": {
      "text/plain": [
       "{'book',\n",
       " 'game',\n",
       " 'manga',\n",
       " 'music',\n",
       " 'novel',\n",
       " 'original',\n",
       " 'other',\n",
       " 'radio',\n",
       " 'unknown'}"
      ]
     },
     "execution_count": 31,
     "metadata": {},
     "output_type": "execute_result"
    }
   ],
   "source": [
    "bins"
   ]
  },
  {
   "cell_type": "code",
   "execution_count": null,
   "metadata": {},
   "outputs": [],
   "source": []
  },
  {
   "cell_type": "markdown",
   "metadata": {},
   "source": [
    "# This runs the app"
   ]
  },
  {
   "cell_type": "code",
   "execution_count": 13,
   "metadata": {},
   "outputs": [
    {
     "name": "stdout",
     "output_type": "stream",
     "text": [
      "Dash is running on http://127.0.0.1:8050/\n",
      "\n",
      " Warning: This is a development server. Do not use app.run_server\n",
      " in production, use a production WSGI server like gunicorn instead.\n",
      "\n",
      " * Serving Flask app \"__main__\" (lazy loading)\n",
      " * Environment: production\n",
      "\u001b[31m   WARNING: This is a development server. Do not use it in a production deployment.\u001b[0m\n",
      "\u001b[2m   Use a production WSGI server instead.\u001b[0m\n",
      " * Debug mode: on\n"
     ]
    },
    {
     "ename": "SystemExit",
     "evalue": "1",
     "output_type": "error",
     "traceback": [
      "An exception has occurred, use %tb to see the full traceback.\n",
      "\u001b[0;31mSystemExit\u001b[0m\u001b[0;31m:\u001b[0m 1\n"
     ]
    },
    {
     "name": "stderr",
     "output_type": "stream",
     "text": [
      "/home/allan/.cache/pypoetry/virtualenvs/unit-2-build-LZ8QxYZY-py3.8/lib/python3.8/site-packages/IPython/core/interactiveshell.py:3351: UserWarning: To exit: use 'exit', 'quit', or Ctrl-D.\n",
      "  warn(\"To exit: use 'exit', 'quit', or Ctrl-D.\", stacklevel=1)\n"
     ]
    }
   ],
   "source": [
    "if __name__ == \"__main__\":\n",
    "    app.run_server(debug=True)"
   ]
  },
  {
   "cell_type": "code",
   "execution_count": null,
   "metadata": {},
   "outputs": [],
   "source": []
  }
 ],
 "metadata": {
  "kernelspec": {
   "display_name": "Python 3",
   "language": "python",
   "name": "python3"
  },
  "language_info": {
   "codemirror_mode": {
    "name": "ipython",
    "version": 3
   },
   "file_extension": ".py",
   "mimetype": "text/x-python",
   "name": "python",
   "nbconvert_exporter": "python",
   "pygments_lexer": "ipython3",
   "version": "3.8.0"
  }
 },
 "nbformat": 4,
 "nbformat_minor": 4
}

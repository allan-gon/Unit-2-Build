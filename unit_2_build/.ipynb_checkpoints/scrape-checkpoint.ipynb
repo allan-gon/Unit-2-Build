{
 "cells": [
  {
   "cell_type": "code",
   "execution_count": 1,
   "metadata": {},
   "outputs": [],
   "source": [
    "from bs4 import BeautifulSoup\n",
    "from urllib.request import urlopen"
   ]
  },
  {
   "cell_type": "code",
   "execution_count": 2,
   "metadata": {},
   "outputs": [],
   "source": [
    "url = \"https://myanimelist.net/manga/2/Berserk\""
   ]
  },
  {
   "cell_type": "code",
   "execution_count": 3,
   "metadata": {},
   "outputs": [],
   "source": [
    "uClient = urlopen(url)"
   ]
  },
  {
   "cell_type": "code",
   "execution_count": 4,
   "metadata": {},
   "outputs": [],
   "source": [
    "page = uClient.read()\n",
    "uClient.close()"
   ]
  },
  {
   "cell_type": "code",
   "execution_count": 5,
   "metadata": {},
   "outputs": [],
   "source": [
    "soup = BeautifulSoup(page,'html.parser')"
   ]
  },
  {
   "cell_type": "markdown",
   "metadata": {},
   "source": [
    "# How to get score"
   ]
  },
  {
   "cell_type": "code",
   "execution_count": 6,
   "metadata": {},
   "outputs": [],
   "source": [
    "score = soup.findAll('div',{'data-id':\"info1\"})"
   ]
  },
  {
   "cell_type": "code",
   "execution_count": 7,
   "metadata": {},
   "outputs": [
    {
     "data": {
      "text/plain": [
       "'9.33'"
      ]
     },
     "execution_count": 7,
     "metadata": {},
     "output_type": "execute_result"
    }
   ],
   "source": [
    "score[0].findAll('span',{\"itemprop\":\"ratingValue\"})[0].text"
   ]
  },
  {
   "cell_type": "markdown",
   "metadata": {},
   "source": [
    "# How to get Rank"
   ]
  },
  {
   "cell_type": "code",
   "execution_count": 8,
   "metadata": {},
   "outputs": [],
   "source": [
    "rank = soup.findAll('div',{'data-id':\"info2\"})"
   ]
  },
  {
   "cell_type": "code",
   "execution_count": 69,
   "metadata": {},
   "outputs": [
    {
     "data": {
      "text/plain": [
       "'1'"
      ]
     },
     "execution_count": 69,
     "metadata": {},
     "output_type": "execute_result"
    }
   ],
   "source": [
    "rank[0].text.split()[1][:-1].strip('#')"
   ]
  },
  {
   "cell_type": "markdown",
   "metadata": {},
   "source": [
    "# How to get members"
   ]
  },
  {
   "cell_type": "code",
   "execution_count": 40,
   "metadata": {},
   "outputs": [],
   "source": [
    "members = soup.findAll('div',{'class':'spaceit'})"
   ]
  },
  {
   "cell_type": "code",
   "execution_count": 54,
   "metadata": {},
   "outputs": [
    {
     "data": {
      "text/plain": [
       "'298,660'"
      ]
     },
     "execution_count": 54,
     "metadata": {},
     "output_type": "execute_result"
    }
   ],
   "source": [
    "members[5].text.split()[-1]"
   ]
  },
  {
   "cell_type": "markdown",
   "metadata": {},
   "source": [
    "# How to get popularity"
   ]
  },
  {
   "cell_type": "code",
   "execution_count": 74,
   "metadata": {},
   "outputs": [],
   "source": [
    "pop = soup.find(\"#content > table:nth-child(1) > tbody:nth-child(1) > tr:nth-child(1) > td:nth-child(1) > div:nth-child(1) > div:nth-child(24)\")"
   ]
  },
  {
   "cell_type": "code",
   "execution_count": 75,
   "metadata": {},
   "outputs": [],
   "source": [
    "pop"
   ]
  },
  {
   "cell_type": "code",
   "execution_count": 79,
   "metadata": {},
   "outputs": [],
   "source": [
    "search = ''\n",
    "for item in soup.select(\"div > span\"):\n",
    "    search += ' ' + item.get_text()"
   ]
  },
  {
   "cell_type": "code",
   "execution_count": 80,
   "metadata": {},
   "outputs": [
    {
     "data": {
      "text/plain": [
       "' English: Synonyms: Japanese: Type: Volumes: Chapters: Status: Published: Genres: Action Adventure Demons Drama Fantasy Horror Supernatural Military Psychological Seinen Authors: Serialization: Score: 9.331 (scored by 140406140,406 users)1 indicates a weighted score. Ranked: Popularity: Members: Favorites: Ranked #1 Popularity #4 Members 298,660 Manga Young Animal Miura, Kentarou (Story & Art)\\n         ? ? * Your list is public by default.  '"
      ]
     },
     "execution_count": 80,
     "metadata": {},
     "output_type": "execute_result"
    }
   ],
   "source": [
    "search"
   ]
  },
  {
   "cell_type": "code",
   "execution_count": 81,
   "metadata": {},
   "outputs": [],
   "source": [
    "index = search.index('Score')"
   ]
  },
  {
   "cell_type": "code",
   "execution_count": 83,
   "metadata": {},
   "outputs": [
    {
     "data": {
      "text/plain": [
       "'Score: 9.331 (scored by 140406140,406 users)1 indicates a weighted score. Ranked: Popularity: Members: Favorites: Ranked #1 Popularity #4 Members 298,660 Manga Young Animal Miura, Kentarou (Story & Art)\\n         ? ? * Your list is public by default.  '"
      ]
     },
     "execution_count": 83,
     "metadata": {},
     "output_type": "execute_result"
    }
   ],
   "source": [
    "search[index:]"
   ]
  },
  {
   "cell_type": "code",
   "execution_count": null,
   "metadata": {},
   "outputs": [],
   "source": [
    "look_for = ['Score','']"
   ]
  },
  {
   "cell_type": "code",
   "execution_count": 84,
   "metadata": {},
   "outputs": [],
   "source": [
    "url2 = \"https://myanimelist.net/manga/25/Fullmetal_Alchemist\"\n",
    "client = urlopen(url2)\n",
    "page = client.read()\n",
    "client.close()\n",
    "soup2 = BeautifulSoup(page,'html.parser')\n",
    "search2 = ''\n",
    "for item in soup2.select(\"div > span\"):\n",
    "    search2 += ' ' + item.get_text()"
   ]
  },
  {
   "cell_type": "code",
   "execution_count": 86,
   "metadata": {},
   "outputs": [
    {
     "data": {
      "text/plain": [
       "153"
      ]
     },
     "execution_count": 86,
     "metadata": {},
     "output_type": "execute_result"
    }
   ],
   "source": [
    "search2.index('Score')"
   ]
  },
  {
   "cell_type": "code",
   "execution_count": 88,
   "metadata": {},
   "outputs": [],
   "source": [
    "looking = search2[152:]"
   ]
  },
  {
   "cell_type": "code",
   "execution_count": 96,
   "metadata": {},
   "outputs": [
    {
     "data": {
      "text/plain": [
       "['Score:',\n",
       " '9.121',\n",
       " '(scored',\n",
       " 'by',\n",
       " '111258111,258',\n",
       " 'users)1',\n",
       " 'indicates',\n",
       " 'a',\n",
       " 'weighted',\n",
       " 'score.',\n",
       " 'Ranked',\n",
       " '#3',\n",
       " 'Popularity',\n",
       " '#11',\n",
       " 'Members',\n",
       " '198,219',\n",
       " 'Manga',\n",
       " 'Shounen',\n",
       " 'Gangan',\n",
       " 'Arakawa,',\n",
       " 'Hiromu',\n",
       " '(Story',\n",
       " '&',\n",
       " 'Art)',\n",
       " '27',\n",
       " '116',\n",
       " '*',\n",
       " 'Your',\n",
       " 'list',\n",
       " 'is']"
      ]
     },
     "execution_count": 96,
     "metadata": {},
     "output_type": "execute_result"
    }
   ],
   "source": [
    "looking.replace(\"Ranked: Popularity: Members: Favorites: \",'').split()[:30]"
   ]
  },
  {
   "cell_type": "code",
   "execution_count": 97,
   "metadata": {},
   "outputs": [],
   "source": [
    "def scrape(title):\n",
    "    #fixing the title\n",
    "    title = title.replace(' ','_')\n",
    "    #create url\n",
    "    url = \"https://myanimelist.net/manga/25/\" + title\n",
    "    #download the page\n",
    "    client = urlopen(url)\n",
    "    page = client.read()\n",
    "    client.close()\n",
    "    soup = BeautifulSoup(page,'html.parser')\n",
    "    #only take the text\n",
    "    search = ''\n",
    "    for item in soup.select(\"div > span\"):\n",
    "        search += ' ' + item.get_text()\n",
    "    #find relevant text\n",
    "    index = search.index('Score')\n",
    "    looking = search2[index:]\n",
    "    #remove the issue text\n",
    "    looking = looking.replace(\"Ranked: Popularity: Members: Favorites: \",'').split()[:30]\n",
    "    #find the relevant info\n",
    "    score = looking[1]\n",
    "    rank = looking[looking.index('Ranked')+1].strip('#').replace(',','')\n",
    "    popularity = looking[looking.index('Popularity')+1].strip('#').replace(',','')\n",
    "    members = looking[looking.index('Members')+1].replace(',','')\n",
    "    return [score,rank,popularity,members]"
   ]
  },
  {
   "cell_type": "code",
   "execution_count": 98,
   "metadata": {},
   "outputs": [],
   "source": [
    "info = scrape(\"Fullmetal Alchemist\")"
   ]
  },
  {
   "cell_type": "code",
   "execution_count": 99,
   "metadata": {},
   "outputs": [
    {
     "data": {
      "text/plain": [
       "['9.121', '3', '11', '198219']"
      ]
     },
     "execution_count": 99,
     "metadata": {},
     "output_type": "execute_result"
    }
   ],
   "source": [
    "info"
   ]
  },
  {
   "cell_type": "code",
   "execution_count": null,
   "metadata": {},
   "outputs": [],
   "source": []
  }
 ],
 "metadata": {
  "kernelspec": {
   "display_name": "Python 3",
   "language": "python",
   "name": "python3"
  },
  "language_info": {
   "codemirror_mode": {
    "name": "ipython",
    "version": 3
   },
   "file_extension": ".py",
   "mimetype": "text/x-python",
   "name": "python",
   "nbconvert_exporter": "python",
   "pygments_lexer": "ipython3",
   "version": "3.8.0"
  }
 },
 "nbformat": 4,
 "nbformat_minor": 4
}

{
 "cells": [
  {
   "cell_type": "code",
   "execution_count": 1,
   "metadata": {},
   "outputs": [],
   "source": [
    "#from bs4 import BeautifulSoup\n",
    "#from urllib.request import urlopen"
   ]
  },
  {
   "cell_type": "markdown",
   "metadata": {},
   "source": [
    "# Using Selenium"
   ]
  },
  {
   "cell_type": "code",
   "execution_count": 11,
   "metadata": {},
   "outputs": [],
   "source": [
    "import mal_scraper\n",
    "import requests"
   ]
  },
  {
   "cell_type": "code",
   "execution_count": 15,
   "metadata": {},
   "outputs": [],
   "source": [
    "retrieved = mal_scraper.get_anime(1,requester=requests)"
   ]
  },
  {
   "cell_type": "code",
   "execution_count": 17,
   "metadata": {},
   "outputs": [
    {
     "data": {
      "text/plain": [
       "{'when': datetime.datetime(2020, 7, 25, 17, 6, 12, 520397),\n",
       " 'id_ref': 1,\n",
       " 'response': <Response [200]>}"
      ]
     },
     "execution_count": 17,
     "metadata": {},
     "output_type": "execute_result"
    }
   ],
   "source": [
    "retrieved.meta"
   ]
  },
  {
   "cell_type": "code",
   "execution_count": 19,
   "metadata": {},
   "outputs": [
    {
     "data": {
      "text/plain": [
       "{'name': 'Cowboy Bebop',\n",
       " 'name_english': 'Cowboy Bebop',\n",
       " 'format': <Format.tv: 'TV'>,\n",
       " 'episodes': 26,\n",
       " 'airing_status': <AiringStatus.finished: 'FINISHED'>,\n",
       " 'airing_started': datetime.date(1998, 4, 3),\n",
       " 'airing_finished': datetime.date(1999, 4, 24),\n",
       " 'airing_premiere': (1998, <Season.spring: 'SPRING'>)}"
      ]
     },
     "execution_count": 19,
     "metadata": {},
     "output_type": "execute_result"
    }
   ],
   "source": [
    "retrieved.data"
   ]
  },
  {
   "cell_type": "code",
   "execution_count": null,
   "metadata": {},
   "outputs": [],
   "source": []
  },
  {
   "cell_type": "code",
   "execution_count": null,
   "metadata": {},
   "outputs": [],
   "source": []
  },
  {
   "cell_type": "code",
   "execution_count": null,
   "metadata": {},
   "outputs": [],
   "source": []
  },
  {
   "cell_type": "markdown",
   "metadata": {},
   "source": [
    "# The scraper"
   ]
  },
  {
   "cell_type": "code",
   "execution_count": null,
   "metadata": {},
   "outputs": [],
   "source": [
    "def scrape(title):\n",
    "    #fixing the title\n",
    "    title = title.replace(' ','_')\n",
    "    #create url\n",
    "    url = 'site:https://myanimelist.net/manga/' + title\n",
    "    #download the page\n",
    "    client = urlopen(url)\n",
    "    page = client.read()\n",
    "    client.close()\n",
    "    soup = BeautifulSoup(page,'html.parser')\n",
    "    #only take the text\n",
    "    search = ''\n",
    "    for item in soup.select(\"div > span\"):\n",
    "        search += ' ' + item.get_text()\n",
    "    #find relevant text\n",
    "    index = search.index('Score')\n",
    "    looking = search2[index:]\n",
    "    #remove the issue text\n",
    "    looking = looking.replace(\"Ranked: Popularity: Members: Favorites: \",'').split()[:30]\n",
    "    #find the relevant info\n",
    "    score = looking[1]\n",
    "    rank = looking[looking.index('Ranked')+1].strip('#').replace(',','')\n",
    "    popularity = looking[looking.index('Popularity')+1].strip('#').replace(',','')\n",
    "    members = looking[looking.index('Members')+1].replace(',','')\n",
    "    return [score,rank,popularity,members]"
   ]
  },
  {
   "cell_type": "code",
   "execution_count": null,
   "metadata": {},
   "outputs": [],
   "source": [
    "#info = scrape(\"Fullmetal Alchemist\")"
   ]
  },
  {
   "cell_type": "code",
   "execution_count": null,
   "metadata": {},
   "outputs": [],
   "source": [
    "#info"
   ]
  }
 ],
 "metadata": {
  "kernelspec": {
   "display_name": "Python 3",
   "language": "python",
   "name": "python3"
  },
  "language_info": {
   "codemirror_mode": {
    "name": "ipython",
    "version": 3
   },
   "file_extension": ".py",
   "mimetype": "text/x-python",
   "name": "python",
   "nbconvert_exporter": "python",
   "pygments_lexer": "ipython3",
   "version": "3.8.0"
  }
 },
 "nbformat": 4,
 "nbformat_minor": 4
}

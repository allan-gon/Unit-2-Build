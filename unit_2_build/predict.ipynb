{
 "cells": [
  {
   "cell_type": "code",
   "execution_count": 38,
   "metadata": {},
   "outputs": [],
   "source": [
    "import pickle\n",
    "import pandas as pd\n",
    "\n",
    "with open(\"tuned_forest\",'rb') as myfile:\n",
    "    model = pickle.load(myfile)\n",
    "\n",
    "def predict(title,types,source,episodes,duration,rating,studio,num_related,genres):\n",
    "    hentai = ['Yaoi','Yuri','Ecchi','Harem','Hentai','Josei','Shounen Ai','Shoujo Ai','Romance']\n",
    "    sports = ['Martial Arts','Sports']\n",
    "    youth = ['Kids','Seinen','Shoujo','Shounen','Super Power','Slice of Life','School','Action']\n",
    "    adv_psych = ['Adventure','Mystery','Psychological','Dementia']\n",
    "    drama_thrill = ['Drama','Horror','Thriller']\n",
    "    fant_scien = ['Demons','Fantasy','Game','Magic','Supernatural','Vampire','Sci-Fi','Cars','Space']\n",
    "    comedy = ['Comedy','Parody']\n",
    "    military = ['Military','Police','Mecha']\n",
    "    misc = ['Historical','Samurai','Music']\n",
    "    \n",
    "    # make dataframe\n",
    "    data = {\n",
    "        'type':[types],'source':[source],'episodes':[episodes],\n",
    "        'duration':[duration],'rating':[rating],'studio':[studio],\n",
    "        'num_related':[num_related],'genre':[genres]\n",
    "    }\n",
    "    df = pd.DataFrame.from_dict(data)\n",
    "    \n",
    "    # fix genre\n",
    "    df['hentai/romance'] = df.genre.str.contains('|'.join(hentai))\n",
    "    df['sports'] = df.genre.str.contains('|'.join(sports))\n",
    "    df['youth'] = df.genre.str.contains('|'.join(youth))\n",
    "    df['adventure/psychological'] = df.genre.str.contains('|'.join(adv_psych))\n",
    "    df['drama'] = df.genre.str.contains('|'.join(drama_thrill))\n",
    "    df['fantasy/sci-fi'] = df.genre.str.contains('|'.join(fant_scien))\n",
    "    df['comedy'] = df.genre.str.contains('|'.join(comedy))\n",
    "    df['military'] = df.genre.str.contains('|'.join(military))\n",
    "    df['misc'] = df.genre.str.contains('|'.join(misc))\n",
    "    df['Unknown'] = df.genre.str.contains('unknown')\n",
    "    \n",
    "    # dropping genre because ohe above\n",
    "    df.drop('genre',axis=1,inplace=True)\n",
    "    \n",
    "    # predict\n",
    "    pred = model.predict(df)\n",
    "    return f\"{title} is a {pred[0]} candidate to animate...\""
   ]
  },
  {
   "cell_type": "code",
   "execution_count": 60,
   "metadata": {},
   "outputs": [
    {
     "data": {
      "text/plain": [
       "'Solo Leveling is a Really good candidate to animate...'"
      ]
     },
     "execution_count": 60,
     "metadata": {},
     "output_type": "execute_result"
    }
   ],
   "source": [
    "predict(title='Solo Leveling',types='TV',source='Manga',episodes=135,\n",
    "        duration='21-30',rating='PG-13 - Teens 13 or older',studio=\"Madhouse\",\n",
    "        num_related=0,genres=\"Action, Adventure, Fantasy\")"
   ]
  },
  {
   "cell_type": "code",
   "execution_count": 44,
   "metadata": {},
   "outputs": [],
   "source": [
    "clean = pd.read_csv(\"clean.csv\")"
   ]
  },
  {
   "cell_type": "code",
   "execution_count": 82,
   "metadata": {},
   "outputs": [
    {
     "data": {
      "text/plain": [
       "PG-13 - Teens 13 or older         4906\n",
       "G - All Ages                      4478\n",
       "PG - Children                     1243\n",
       "R - 17+ (violence & profanity)     961\n",
       "R+ - Mild Nudity                   845\n",
       "None                               334\n",
       "Rx - Hentai                          1\n",
       "Name: rating, dtype: int64"
      ]
     },
     "execution_count": 82,
     "metadata": {},
     "output_type": "execute_result"
    }
   ],
   "source": [
    "clean.rating.value_counts()"
   ]
  },
  {
   "cell_type": "code",
   "execution_count": 65,
   "metadata": {},
   "outputs": [
    {
     "data": {
      "text/plain": [
       "'Tower of God is a Really good candidate to animate...'"
      ]
     },
     "execution_count": 65,
     "metadata": {},
     "output_type": "execute_result"
    }
   ],
   "source": [
    "predict(title='Tower of God',types='TV',source='Manga',episodes=40,\n",
    "        duration='21-30',rating='PG-13 - Teens 13 or older',studio=\"other\",\n",
    "        num_related=0,genres=\"Action, Adventure, Mystery, Drama, Fantasy\")"
   ]
  },
  {
   "cell_type": "code",
   "execution_count": 69,
   "metadata": {},
   "outputs": [
    {
     "data": {
      "text/plain": [
       "'MHA: Vigilates is a Really good candidate to animate...'"
      ]
     },
     "execution_count": 69,
     "metadata": {},
     "output_type": "execute_result"
    }
   ],
   "source": [
    "predict(title='MHA: Vigilates',types='TV',source='Manga',episodes=33,\n",
    "        duration='21-30',rating='PG-13 - Teens 13 or older',studio=\"Bones\",\n",
    "        num_related=3,genres=\"Action, Shounen, Super Power\")"
   ]
  },
  {
   "cell_type": "code",
   "execution_count": 74,
   "metadata": {},
   "outputs": [
    {
     "data": {
      "text/plain": [
       "'Bastard is a Really good candidate to animate...'"
      ]
     },
     "execution_count": 74,
     "metadata": {},
     "output_type": "execute_result"
    }
   ],
   "source": [
    "predict(title='Bastard',types='TV',source='Manga',episodes=47,\n",
    "        duration='21-30',rating='R - 17+ (violence & profanity)',studio=\"Madhouse\",\n",
    "        num_related=0,genres=\"Mystery, Drama, Horror, Romance, Psychological\")"
   ]
  },
  {
   "cell_type": "code",
   "execution_count": 84,
   "metadata": {},
   "outputs": [
    {
     "data": {
      "text/plain": [
       "'Made up is a Bad candidate to animate...'"
      ]
     },
     "execution_count": 84,
     "metadata": {},
     "output_type": "execute_result"
    }
   ],
   "source": [
    "predict(title='Made up',types='TV',source='Manga',episodes=20,\n",
    "        duration='21-30',rating='PG-13 - Teens 13 or older',studio=\"other\",\n",
    "        num_related=0,genres=\"unknown\")"
   ]
  },
  {
   "cell_type": "markdown",
   "metadata": {},
   "source": [
    "Something to acknowledge if i change arounf studio for bastard it'll become a bad cantidate, i chose madhouse because when i searched up\n",
    "murder thriller anime and clicked on the first anime in the list madhouse was the studio"
   ]
  },
  {
   "cell_type": "code",
   "execution_count": null,
   "metadata": {},
   "outputs": [],
   "source": []
  }
 ],
 "metadata": {
  "kernelspec": {
   "display_name": "Python 3",
   "language": "python",
   "name": "python3"
  },
  "language_info": {
   "codemirror_mode": {
    "name": "ipython",
    "version": 3
   },
   "file_extension": ".py",
   "mimetype": "text/x-python",
   "name": "python",
   "nbconvert_exporter": "python",
   "pygments_lexer": "ipython3",
   "version": "3.8.0"
  }
 },
 "nbformat": 4,
 "nbformat_minor": 4
}

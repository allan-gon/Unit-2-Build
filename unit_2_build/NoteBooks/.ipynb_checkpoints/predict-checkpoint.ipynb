{
 "cells": [
  {
   "cell_type": "code",
   "execution_count": 2,
   "metadata": {},
   "outputs": [],
   "source": [
    "import pickle\n",
    "import pandas as pd\n",
    "\n",
    "with open(\"../Models/tuned_forest\",'rb') as myfile:\n",
    "    model = pickle.load(myfile)\n",
    "\n",
    "def predict(title,types,source,episodes,duration,rating,studio,num_related,genres):\n",
    "    hentai = ['Yaoi','Yuri','Ecchi','Harem','Hentai','Josei','Shounen Ai','Shoujo Ai','Romance']\n",
    "    sports = ['Martial Arts','Sports']\n",
    "    youth = ['Kids','Seinen','Shoujo','Shounen','Super Power','Slice of Life','School','Action']\n",
    "    adv_psych = ['Adventure','Mystery','Psychological','Dementia']\n",
    "    drama_thrill = ['Drama','Horror','Thriller']\n",
    "    fant_scien = ['Demons','Fantasy','Game','Magic','Supernatural','Vampire','Sci-Fi','Cars','Space']\n",
    "    comedy = ['Comedy','Parody']\n",
    "    military = ['Military','Police','Mecha']\n",
    "    misc = ['Historical','Samurai','Music']\n",
    "    \n",
    "    # make dataframe\n",
    "    data = {\n",
    "        'type':[types],'source':[source],'episodes':[episodes],\n",
    "        'duration':[duration],'rating':[rating],'studio':[studio],\n",
    "        'num_related':[num_related],'genre':[genres]\n",
    "    }\n",
    "    df = pd.DataFrame.from_dict(data)\n",
    "    \n",
    "    # fix genre\n",
    "    df['hentai/romance'] = df.genre.str.contains('|'.join(hentai))\n",
    "    df['sports'] = df.genre.str.contains('|'.join(sports))\n",
    "    df['youth'] = df.genre.str.contains('|'.join(youth))\n",
    "    df['adventure/psychological'] = df.genre.str.contains('|'.join(adv_psych))\n",
    "    df['drama'] = df.genre.str.contains('|'.join(drama_thrill))\n",
    "    df['fantasy/sci-fi'] = df.genre.str.contains('|'.join(fant_scien))\n",
    "    df['comedy'] = df.genre.str.contains('|'.join(comedy))\n",
    "    df['military'] = df.genre.str.contains('|'.join(military))\n",
    "    df['misc'] = df.genre.str.contains('|'.join(misc))\n",
    "    df['Unknown'] = df.genre.str.contains('unknown')\n",
    "    \n",
    "    # dropping genre because ohe above\n",
    "    df.drop('genre',axis=1,inplace=True)\n",
    "    \n",
    "    # predict\n",
    "    pred = model.predict(df)\n",
    "    return f\"{title} is a {pred[0]} candidate to animate...\""
   ]
  },
  {
   "cell_type": "code",
   "execution_count": 11,
   "metadata": {},
   "outputs": [
    {
     "data": {
      "text/plain": [
       "'Solo Leveling is a Really good candidate to animate...'"
      ]
     },
     "execution_count": 11,
     "metadata": {},
     "output_type": "execute_result"
    }
   ],
   "source": [
    "predict(title='Solo Leveling',types='TV',source='Manga',episodes=135,\n",
    "        duration='21-30',rating='PG-13 - Teens 13 or older',studio=\"Madhouse\",\n",
    "        num_related=0,genres=\"Action, Adventure, Fantasy\")"
   ]
  },
  {
   "cell_type": "code",
   "execution_count": 4,
   "metadata": {},
   "outputs": [],
   "source": [
    "clean = pd.read_csv(\"../DATA/clean.csv\")"
   ]
  },
  {
   "cell_type": "code",
   "execution_count": 6,
   "metadata": {},
   "outputs": [
    {
     "data": {
      "text/plain": [
       "other                9847\n",
       "Toei Animation        718\n",
       "Sunrise               440\n",
       "Madhouse              306\n",
       "J.C.Staff             301\n",
       "Production I.G        246\n",
       "Studio Pierrot        239\n",
       "TMS Entertainment     237\n",
       "Studio Deen           235\n",
       "Nippon Animation      199\n",
       "Name: studio, dtype: int64"
      ]
     },
     "execution_count": 6,
     "metadata": {},
     "output_type": "execute_result"
    }
   ],
   "source": [
    "clean.studio.value_counts()"
   ]
  },
  {
   "cell_type": "code",
   "execution_count": 12,
   "metadata": {},
   "outputs": [
    {
     "data": {
      "text/plain": [
       "'Tower of God is a Really good candidate to animate...'"
      ]
     },
     "execution_count": 12,
     "metadata": {},
     "output_type": "execute_result"
    }
   ],
   "source": [
    "predict(title='Tower of God',types='TV',source='Manga',episodes=40,\n",
    "        duration='21-30',rating='PG-13 - Teens 13 or older',studio=\"other\",\n",
    "        num_related=0,genres=\"Action, Adventure, Mystery, Drama, Fantasy\")"
   ]
  },
  {
   "cell_type": "code",
   "execution_count": 11,
   "metadata": {},
   "outputs": [
    {
     "data": {
      "text/plain": [
       "'MHA: Vigilates is a Really good candidate to animate...'"
      ]
     },
     "execution_count": 11,
     "metadata": {},
     "output_type": "execute_result"
    }
   ],
   "source": [
    "predict(title='MHA: Vigilates',types='TV',source='Manga',episodes=33,\n",
    "        duration='21-30',rating='PG-13 - Teens 13 or older',studio=\"Bones\",\n",
    "        num_related=3,genres=\"Action, Shounen, Super Power\")"
   ]
  },
  {
   "cell_type": "code",
   "execution_count": 16,
   "metadata": {},
   "outputs": [
    {
     "data": {
      "text/plain": [
       "'Bastard is a Really good candidate to animate...'"
      ]
     },
     "execution_count": 16,
     "metadata": {},
     "output_type": "execute_result"
    }
   ],
   "source": [
    "predict(title='Bastard',types='TV',source='Manga',episodes=47,\n",
    "        duration='21-30',rating='R - 17+ (violence & profanity)',studio=\"Madhouse\",\n",
    "        num_related=0,genres=\"Mystery, Drama, Horror, Romance, Psychological\")"
   ]
  },
  {
   "cell_type": "code",
   "execution_count": 84,
   "metadata": {},
   "outputs": [
    {
     "data": {
      "text/plain": [
       "'Made up is a Bad candidate to animate...'"
      ]
     },
     "execution_count": 84,
     "metadata": {},
     "output_type": "execute_result"
    }
   ],
   "source": [
    "predict(title='Made up',types='TV',source='Manga',episodes=20,\n",
    "        duration='21-30',rating='PG-13 - Teens 13 or older',studio=\"other\",\n",
    "        num_related=0,genres=\"unknown\")"
   ]
  },
  {
   "cell_type": "markdown",
   "metadata": {},
   "source": [
    "Something to acknowledge if i change arounf studio for bastard it'll become a bad cantidate, i chose madhouse because when i searched up\n",
    "murder thriller anime and clicked on the first anime in the list madhouse was the studio"
   ]
  },
  {
   "cell_type": "code",
   "execution_count": 18,
   "metadata": {},
   "outputs": [
    {
     "data": {
      "text/plain": [
       "'True Beauty is a OK candidate to animate...'"
      ]
     },
     "execution_count": 18,
     "metadata": {},
     "output_type": "execute_result"
    }
   ],
   "source": [
    "predict(title='True Beauty',types='TV',source='Manga',episodes=52,\n",
    "        duration='21-30',rating='PG-13 - Teens 13 or older',studio=\"other\",\n",
    "        num_related=0,genres=\"Romance, Shoujo, Slice of Life, School, Drama\")"
   ]
  },
  {
   "cell_type": "code",
   "execution_count": null,
   "metadata": {},
   "outputs": [],
   "source": []
  }
 ],
 "metadata": {
  "kernelspec": {
   "display_name": "Python 3",
   "language": "python",
   "name": "python3"
  },
  "language_info": {
   "codemirror_mode": {
    "name": "ipython",
    "version": 3
   },
   "file_extension": ".py",
   "mimetype": "text/x-python",
   "name": "python",
   "nbconvert_exporter": "python",
   "pygments_lexer": "ipython3",
   "version": "3.8.0"
  }
 },
 "nbformat": 4,
 "nbformat_minor": 4
}

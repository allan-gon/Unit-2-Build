{
 "cells": [
  {
   "cell_type": "markdown",
   "metadata": {},
   "source": [
    "# Imports"
   ]
  },
  {
   "cell_type": "code",
   "execution_count": 11,
   "metadata": {},
   "outputs": [],
   "source": [
    "import pandas as pd\n",
    "import numpy as np\n",
    "\n",
    "import pickle\n",
    "\n",
    "from sklearn.model_selection import train_test_split\n",
    "\n",
    "import plotly.express as px\n",
    "import matplotlib.pyplot as plt\n",
    "\n",
    "from Wrangle import predict"
   ]
  },
  {
   "cell_type": "markdown",
   "metadata": {},
   "source": [
    "# Load Data"
   ]
  },
  {
   "cell_type": "code",
   "execution_count": 2,
   "metadata": {},
   "outputs": [],
   "source": [
    "df = pd.read_csv(\"../DATA/clean.csv\")"
   ]
  },
  {
   "cell_type": "markdown",
   "metadata": {},
   "source": [
    "# TTS"
   ]
  },
  {
   "cell_type": "code",
   "execution_count": 3,
   "metadata": {},
   "outputs": [],
   "source": [
    "X, X_test, y, y_test = train_test_split(df.drop('class',axis=1),\n",
    "                                        df['class'],test_size =.1,\n",
    "                                       random_state=42)\n",
    "\n",
    "X_train, X_val, y_train, y_val = train_test_split(X,y,test_size=.09,\n",
    "                                                 random_state=42)"
   ]
  },
  {
   "cell_type": "markdown",
   "metadata": {},
   "source": [
    "# Load Models"
   ]
  },
  {
   "cell_type": "code",
   "execution_count": 52,
   "metadata": {},
   "outputs": [],
   "source": [
    "with open(\"../Models/log\",\"rb\") as myfile:\n",
    "    log = pickle.load(myfile)\n",
    "    \n",
    "with open(\"../Models/tuned_log\",\"rb\") as myfile:\n",
    "    tuned_log = pickle.load(myfile)\n",
    "    \n",
    "with open(\"../Models/forest\",\"rb\") as myfile:\n",
    "    forest = pickle.load(myfile)\n",
    "    \n",
    "with open(\"../Models/tuned_forest\",\"rb\") as myfile:\n",
    "    tuned_forest = pickle.load(myfile)\n",
    "\n",
    "with open(\"../Models/xgb\",\"rb\") as myfile:\n",
    "    xgb = pickle.load(myfile)\n",
    "\n",
    "with open(\"../Models/tuned_xgb\",\"rb\") as myfile:\n",
    "    tuned_xgb = pickle.load(myfile)"
   ]
  },
  {
   "cell_type": "markdown",
   "metadata": {},
   "source": [
    "# Graph models accuracy"
   ]
  },
  {
   "cell_type": "code",
   "execution_count": 53,
   "metadata": {},
   "outputs": [],
   "source": [
    "models = pd.DataFrame({\n",
    "    'model_name':['log','tuned_log','forest','tuned_forest','xgb','tuned_xgb'],\n",
    "    'model':[log,tuned_log,forest,tuned_forest,xgb,tuned_xgb]\n",
    "})"
   ]
  },
  {
   "cell_type": "code",
   "execution_count": 54,
   "metadata": {},
   "outputs": [],
   "source": [
    "models['train_accuracy'] = models.model.apply(lambda x: x.score(X_train,y_train))"
   ]
  },
  {
   "cell_type": "code",
   "execution_count": 55,
   "metadata": {},
   "outputs": [],
   "source": [
    "models['val_accuracy'] = models.model.apply(lambda x: x.score(X_val,y_val))"
   ]
  },
  {
   "cell_type": "code",
   "execution_count": 56,
   "metadata": {},
   "outputs": [],
   "source": [
    "models['test_accuracy'] = models.model.apply(lambda x: x.score(X_test,y_test))"
   ]
  },
  {
   "cell_type": "code",
   "execution_count": 57,
   "metadata": {},
   "outputs": [
    {
     "data": {
      "text/html": [
       "<div>\n",
       "<style scoped>\n",
       "    .dataframe tbody tr th:only-of-type {\n",
       "        vertical-align: middle;\n",
       "    }\n",
       "\n",
       "    .dataframe tbody tr th {\n",
       "        vertical-align: top;\n",
       "    }\n",
       "\n",
       "    .dataframe thead th {\n",
       "        text-align: right;\n",
       "    }\n",
       "</style>\n",
       "<table border=\"1\" class=\"dataframe\">\n",
       "  <thead>\n",
       "    <tr style=\"text-align: right;\">\n",
       "      <th></th>\n",
       "      <th>model_name</th>\n",
       "      <th>model</th>\n",
       "      <th>train_accuracy</th>\n",
       "      <th>val_accuracy</th>\n",
       "      <th>test_accuracy</th>\n",
       "    </tr>\n",
       "  </thead>\n",
       "  <tbody>\n",
       "    <tr>\n",
       "      <th>0</th>\n",
       "      <td>log</td>\n",
       "      <td>(OneHotEncoder(cols=['type', 'source', 'durati...</td>\n",
       "      <td>0.632364</td>\n",
       "      <td>0.642512</td>\n",
       "      <td>0.652310</td>\n",
       "    </tr>\n",
       "    <tr>\n",
       "      <th>1</th>\n",
       "      <td>tuned_log</td>\n",
       "      <td>(OneHotEncoder(cols=['type', 'source', 'durati...</td>\n",
       "      <td>0.632651</td>\n",
       "      <td>0.644444</td>\n",
       "      <td>0.648395</td>\n",
       "    </tr>\n",
       "    <tr>\n",
       "      <th>2</th>\n",
       "      <td>forest</td>\n",
       "      <td>(OneHotEncoder(cols=['type', 'source', 'durati...</td>\n",
       "      <td>0.962892</td>\n",
       "      <td>0.671498</td>\n",
       "      <td>0.663273</td>\n",
       "    </tr>\n",
       "    <tr>\n",
       "      <th>3</th>\n",
       "      <td>tuned_forest</td>\n",
       "      <td>(OneHotEncoder(cols=['type', 'source', 'durati...</td>\n",
       "      <td>0.883416</td>\n",
       "      <td>0.683092</td>\n",
       "      <td>0.674236</td>\n",
       "    </tr>\n",
       "    <tr>\n",
       "      <th>4</th>\n",
       "      <td>xgb</td>\n",
       "      <td>(OneHotEncoder(cols=['type', 'source', 'durati...</td>\n",
       "      <td>0.812643</td>\n",
       "      <td>0.688889</td>\n",
       "      <td>0.681284</td>\n",
       "    </tr>\n",
       "    <tr>\n",
       "      <th>5</th>\n",
       "      <td>tuned_xgb</td>\n",
       "      <td>(OneHotEncoder(cols=['type', 'source', 'durati...</td>\n",
       "      <td>0.748661</td>\n",
       "      <td>0.680193</td>\n",
       "      <td>0.685200</td>\n",
       "    </tr>\n",
       "  </tbody>\n",
       "</table>\n",
       "</div>"
      ],
      "text/plain": [
       "     model_name                                              model  \\\n",
       "0           log  (OneHotEncoder(cols=['type', 'source', 'durati...   \n",
       "1     tuned_log  (OneHotEncoder(cols=['type', 'source', 'durati...   \n",
       "2        forest  (OneHotEncoder(cols=['type', 'source', 'durati...   \n",
       "3  tuned_forest  (OneHotEncoder(cols=['type', 'source', 'durati...   \n",
       "4           xgb  (OneHotEncoder(cols=['type', 'source', 'durati...   \n",
       "5     tuned_xgb  (OneHotEncoder(cols=['type', 'source', 'durati...   \n",
       "\n",
       "   train_accuracy  val_accuracy  test_accuracy  \n",
       "0        0.632364      0.642512       0.652310  \n",
       "1        0.632651      0.644444       0.648395  \n",
       "2        0.962892      0.671498       0.663273  \n",
       "3        0.883416      0.683092       0.674236  \n",
       "4        0.812643      0.688889       0.681284  \n",
       "5        0.748661      0.680193       0.685200  "
      ]
     },
     "execution_count": 57,
     "metadata": {},
     "output_type": "execute_result"
    }
   ],
   "source": [
    "models.head(6)"
   ]
  },
  {
   "cell_type": "code",
   "execution_count": 60,
   "metadata": {},
   "outputs": [
    {
     "data": {
      "image/png": "[encoded data removed]",
      "text/plain": [
       "<Figure size 720x360 with 1 Axes>"
      ]
     },
     "metadata": {
      "needs_background": "light"
     },
     "output_type": "display_data"
    }
   ],
   "source": [
    "scores = [models.val_accuracy[0],models.val_accuracy[1],models.val_accuracy[2],models.val_accuracy[3],models.val_accuracy[4],models.val_accuracy[5]]\n",
    "\n",
    "fig,ax = plt.subplots()\n",
    "\n",
    "fig.set_size_inches(10,5)\n",
    "\n",
    "ax.bar(x=[1,3,5], height=scores[::2],label='Base Model')\n",
    "ax.bar(x=[2,4,6], height=scores[1::2],label='Tuned Model')\n",
    "\n",
    "ax.set_xticks([1.5,3.5,5.5])\n",
    "ax.set_yticks(np.linspace(0.0,1.0,num=11))\n",
    "\n",
    "ax.set_xticklabels(['Logistic Regression','Random Forest','XGBoost'])\n",
    "\n",
    "ax.set_title('Model Validation Accuracy')\n",
    "\n",
    "ax.legend()\n",
    "plt.show()"
   ]
  },
  {
   "cell_type": "code",
   "execution_count": 63,
   "metadata": {},
   "outputs": [
    {
     "name": "stdin",
     "output_type": "stream",
     "text": [
      "what's the manga title?\n",
      " mha vigi\n",
      "What type will it be?\n",
      " TV\n",
      "What's the source?\n",
      " Manga\n",
      "How many episodes do you plan to make?\n",
      " 33\n",
      "How long will each episode be?\n",
      " 21-30\n",
      "What's the maturity rating?\n",
      " PG-13 - Teens 13 or older\n",
      "Who do you plan on animating this?\n",
      " Bones\n",
      "How much related material is there?\n",
      " 3\n",
      "What are the genres?\n",
      " Action, Shounen, Super Power\n"
     ]
    },
    {
     "name": "stdout",
     "output_type": "stream",
     "text": [
      "mha vigi is a Really good candidate to animate...\n"
     ]
    },
    {
     "name": "stdin",
     "output_type": "stream",
     "text": [
      "\n",
      "1 to continue 0 to stop\n",
      " 0\n"
     ]
    }
   ],
   "source": [
    "x = True\n",
    "while x:\n",
    "    title = input(\"what's the manga title?\\n\")\n",
    "    types = input(\"What type will it be?\\n\")\n",
    "    source = input(\"What's the source?\\n\")\n",
    "    episodes = int(input(\"How many episodes do you plan to make?\\n\"))\n",
    "    duration = input(\"How long will each episode be?\\n\")\n",
    "    rating = input(\"What's the maturity rating?\\n\")\n",
    "    studio = input(\"Who do you plan on animating this?\\n\")\n",
    "    num_related = int(input(\"How much related material is there?\\n\"))\n",
    "    genres = input(\"What are the genres?\\n\")\n",
    "    print(predict(tuned_xgb,title,types,source,episodes,duration,rating,studio,num_related,genres))\n",
    "    x = bool(int(input(\"\\n1 to continue 0 to stop\\n\")))\n",
    "print(\"Thanks for using my model...\")"
   ]
  },
  {
   "cell_type": "code",
   "execution_count": null,
   "metadata": {},
   "outputs": [],
   "source": []
  }
 ],
 "metadata": {
  "kernelspec": {
   "display_name": "Python 3",
   "language": "python",
   "name": "python3"
  },
  "language_info": {
   "codemirror_mode": {
    "name": "ipython",
    "version": 3
   },
   "file_extension": ".py",
   "mimetype": "text/x-python",
   "name": "python",
   "nbconvert_exporter": "python",
   "pygments_lexer": "ipython3",
   "version": "3.8.0"
  }
 },
 "nbformat": 4,
 "nbformat_minor": 4
}

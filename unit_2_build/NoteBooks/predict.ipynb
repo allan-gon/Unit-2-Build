{
 "cells": [
  {
   "cell_type": "code",
   "execution_count": 4,
   "metadata": {},
   "outputs": [],
   "source": [
    "import pickle\n",
    "import pandas as pd\n",
    "from Wrangle import predict\n",
    "with open(\"../Models/tuned_forest\",'rb') as myfile:\n",
    "    model = pickle.load(myfile)"
   ]
  },
  {
   "cell_type": "code",
   "execution_count": 3,
   "metadata": {},
   "outputs": [
    {
     "data": {
      "text/plain": [
       "'Solo Leveling is a Really good candidate to animate...'"
      ]
     },
     "execution_count": 3,
     "metadata": {},
     "output_type": "execute_result"
    }
   ],
   "source": [
    "predict(model=model,title='Solo Leveling',types='TV',source='Manga',episodes=135,\n",
    "        duration='21-30',rating='PG-13 - Teens 13 or older',studio=\"Madhouse\",\n",
    "        num_related=0,genres=\"Action, Adventure, Fantasy\")"
   ]
  },
  {
   "cell_type": "code",
   "execution_count": 4,
   "metadata": {},
   "outputs": [],
   "source": [
    "clean = pd.read_csv(\"../DATA/clean.csv\")"
   ]
  },
  {
   "cell_type": "code",
   "execution_count": 6,
   "metadata": {},
   "outputs": [
    {
     "data": {
      "text/plain": [
       "other                9847\n",
       "Toei Animation        718\n",
       "Sunrise               440\n",
       "Madhouse              306\n",
       "J.C.Staff             301\n",
       "Production I.G        246\n",
       "Studio Pierrot        239\n",
       "TMS Entertainment     237\n",
       "Studio Deen           235\n",
       "Nippon Animation      199\n",
       "Name: studio, dtype: int64"
      ]
     },
     "execution_count": 6,
     "metadata": {},
     "output_type": "execute_result"
    }
   ],
   "source": [
    "clean.studio.value_counts()"
   ]
  },
  {
   "cell_type": "code",
   "execution_count": 12,
   "metadata": {},
   "outputs": [
    {
     "data": {
      "text/plain": [
       "'Tower of God is a Really good candidate to animate...'"
      ]
     },
     "execution_count": 12,
     "metadata": {},
     "output_type": "execute_result"
    }
   ],
   "source": [
    "predict(title='Tower of God',types='TV',source='Manga',episodes=40,\n",
    "        duration='21-30',rating='PG-13 - Teens 13 or older',studio=\"other\",\n",
    "        num_related=0,genres=\"Action, Adventure, Mystery, Drama, Fantasy\")"
   ]
  },
  {
   "cell_type": "code",
   "execution_count": 11,
   "metadata": {},
   "outputs": [
    {
     "data": {
      "text/plain": [
       "'MHA: Vigilates is a Really good candidate to animate...'"
      ]
     },
     "execution_count": 11,
     "metadata": {},
     "output_type": "execute_result"
    }
   ],
   "source": [
    "predict(title='MHA: Vigilates',types='TV',source='Manga',episodes=33,\n",
    "        duration='21-30',rating='PG-13 - Teens 13 or older',studio=\"Bones\",\n",
    "        num_related=3,genres=\"Action, Shounen, Super Power\")"
   ]
  },
  {
   "cell_type": "code",
   "execution_count": 16,
   "metadata": {},
   "outputs": [
    {
     "data": {
      "text/plain": [
       "'Bastard is a Really good candidate to animate...'"
      ]
     },
     "execution_count": 16,
     "metadata": {},
     "output_type": "execute_result"
    }
   ],
   "source": [
    "predict(title='Bastard',types='TV',source='Manga',episodes=47,\n",
    "        duration='21-30',rating='R - 17+ (violence & profanity)',studio=\"Madhouse\",\n",
    "        num_related=0,genres=\"Mystery, Drama, Horror, Romance, Psychological\")"
   ]
  },
  {
   "cell_type": "code",
   "execution_count": 84,
   "metadata": {},
   "outputs": [
    {
     "data": {
      "text/plain": [
       "'Made up is a Bad candidate to animate...'"
      ]
     },
     "execution_count": 84,
     "metadata": {},
     "output_type": "execute_result"
    }
   ],
   "source": [
    "predict(title='Made up',types='TV',source='Manga',episodes=20,\n",
    "        duration='21-30',rating='PG-13 - Teens 13 or older',studio=\"other\",\n",
    "        num_related=0,genres=\"unknown\")"
   ]
  },
  {
   "cell_type": "markdown",
   "metadata": {},
   "source": [
    "Something to acknowledge if i change arounf studio for bastard it'll become a bad cantidate, i chose madhouse because when i searched up\n",
    "murder thriller anime and clicked on the first anime in the list madhouse was the studio"
   ]
  },
  {
   "cell_type": "code",
   "execution_count": 18,
   "metadata": {},
   "outputs": [
    {
     "data": {
      "text/plain": [
       "'True Beauty is a OK candidate to animate...'"
      ]
     },
     "execution_count": 18,
     "metadata": {},
     "output_type": "execute_result"
    }
   ],
   "source": [
    "predict(title='True Beauty',types='TV',source='Manga',episodes=52,\n",
    "        duration='21-30',rating='PG-13 - Teens 13 or older',studio=\"other\",\n",
    "        num_related=0,genres=\"Romance, Shoujo, Slice of Life, School, Drama\")"
   ]
  },
  {
   "cell_type": "code",
   "execution_count": null,
   "metadata": {},
   "outputs": [],
   "source": [
    "if __name__ == '__main__':\n",
    "    predict()"
   ]
  }
 ],
 "metadata": {
  "kernelspec": {
   "display_name": "Python 3",
   "language": "python",
   "name": "python3"
  },
  "language_info": {
   "codemirror_mode": {
    "name": "ipython",
    "version": 3
   },
   "file_extension": ".py",
   "mimetype": "text/x-python",
   "name": "python",
   "nbconvert_exporter": "python",
   "pygments_lexer": "ipython3",
   "version": "3.8.0"
  }
 },
 "nbformat": 4,
 "nbformat_minor": 4
}

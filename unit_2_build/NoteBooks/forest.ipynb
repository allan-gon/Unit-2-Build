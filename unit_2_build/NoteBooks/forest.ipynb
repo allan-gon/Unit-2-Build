{
 "cells": [
  {
   "cell_type": "markdown",
   "metadata": {},
   "source": [
    "# Imports"
   ]
  },
  {
   "cell_type": "code",
   "execution_count": 1,
   "metadata": {},
   "outputs": [],
   "source": [
    "import numpy as np\n",
    "import pandas as pd\n",
    "import matplotlib.pyplot as plt"
   ]
  },
  {
   "cell_type": "code",
   "execution_count": 2,
   "metadata": {},
   "outputs": [],
   "source": [
    "from sklearn.pipeline import make_pipeline\n",
    "from category_encoders import OneHotEncoder\n",
    "\n",
    "from sklearn.ensemble import RandomForestClassifier"
   ]
  },
  {
   "cell_type": "code",
   "execution_count": 3,
   "metadata": {},
   "outputs": [],
   "source": [
    "from sklearn.metrics import classification_report, confusion_matrix, plot_confusion_matrix\n",
    "from sklearn.model_selection import train_test_split, RandomizedSearchCV\n",
    "from sklearn.inspection import permutation_importance"
   ]
  },
  {
   "cell_type": "code",
   "execution_count": 4,
   "metadata": {},
   "outputs": [],
   "source": [
    "from pdpbox.pdp import pdp_isolate, pdp_plot\n",
    "from pdpbox.pdp import pdp_interact, pdp_interact_plot\n",
    "import shap"
   ]
  },
  {
   "cell_type": "markdown",
   "metadata": {},
   "source": [
    "# Read in data"
   ]
  },
  {
   "cell_type": "code",
   "execution_count": 6,
   "metadata": {},
   "outputs": [],
   "source": [
    "df = pd.read_csv(\"../DATA/clean.csv\")"
   ]
  },
  {
   "cell_type": "markdown",
   "metadata": {},
   "source": [
    "# TTS"
   ]
  },
  {
   "cell_type": "code",
   "execution_count": 7,
   "metadata": {},
   "outputs": [],
   "source": [
    "X, X_test, y, y_test = train_test_split(df.drop('class',axis=1),\n",
    "                                        df['class'],test_size =.1,\n",
    "                                       random_state=42)"
   ]
  },
  {
   "cell_type": "code",
   "execution_count": 8,
   "metadata": {},
   "outputs": [],
   "source": [
    "X_train, X_val, y_train, y_val = train_test_split(X,y,test_size=.09,\n",
    "                                                 random_state=42)"
   ]
  },
  {
   "cell_type": "markdown",
   "metadata": {},
   "source": [
    "# Baseline"
   ]
  },
  {
   "cell_type": "code",
   "execution_count": 9,
   "metadata": {},
   "outputs": [],
   "source": [
    "baseline = y_train.value_counts(normalize=True).max()"
   ]
  },
  {
   "cell_type": "markdown",
   "metadata": {},
   "source": [
    "# Random Forest"
   ]
  },
  {
   "cell_type": "code",
   "execution_count": 10,
   "metadata": {},
   "outputs": [],
   "source": [
    "forest = make_pipeline(OneHotEncoder(use_cat_names=True),\n",
    "                      RandomForestClassifier(n_jobs=-1,random_state=42))"
   ]
  },
  {
   "cell_type": "code",
   "execution_count": 11,
   "metadata": {},
   "outputs": [],
   "source": [
    "forest.fit(X_train,y_train);"
   ]
  },
  {
   "cell_type": "markdown",
   "metadata": {},
   "source": [
    "# Metrics"
   ]
  },
  {
   "cell_type": "code",
   "execution_count": 12,
   "metadata": {},
   "outputs": [
    {
     "name": "stdout",
     "output_type": "stream",
     "text": [
      "Baseline: 0.43687834736036724\n",
      "\n",
      "Train Score: 0.9628921193573068\n",
      "Val score: 0.6705314009661836\n",
      "Test Score: 0.66327329678935\n"
     ]
    }
   ],
   "source": [
    "print(f\"Baseline: {baseline}\\n\")\n",
    "print(f\"Train Score: {forest.score(X_train,y_train)}\")\n",
    "print(f\"Val score: {forest.score(X_val,y_val)}\")\n",
    "print(f\"Test Score: {forest.score(X_test,y_test)}\")"
   ]
  },
  {
   "cell_type": "markdown",
   "metadata": {},
   "source": [
    "Clearly overfit"
   ]
  },
  {
   "cell_type": "markdown",
   "metadata": {},
   "source": [
    "# Classification report + Matrix"
   ]
  },
  {
   "cell_type": "code",
   "execution_count": 13,
   "metadata": {},
   "outputs": [
    {
     "name": "stdout",
     "output_type": "stream",
     "text": [
      "              precision    recall  f1-score   support\n",
      "\n",
      "         Bad       0.79      0.89      0.84       431\n",
      "          OK       0.50      0.48      0.49       209\n",
      "Questionable       0.49      0.33      0.40       198\n",
      " Really good       0.68      0.73      0.70       197\n",
      "\n",
      "    accuracy                           0.67      1035\n",
      "   macro avg       0.61      0.61      0.61      1035\n",
      "weighted avg       0.65      0.67      0.66      1035\n",
      "\n"
     ]
    }
   ],
   "source": [
    "print(classification_report(y_val, forest.predict(X_val)))"
   ]
  },
  {
   "cell_type": "code",
   "execution_count": 17,
   "metadata": {},
   "outputs": [
    {
     "data": {
      "text/plain": [
       "<sklearn.metrics._plot.confusion_matrix.ConfusionMatrixDisplay at 0x7f7fe9535100>"
      ]
     },
     "execution_count": 17,
     "metadata": {},
     "output_type": "execute_result"
    },
    {
     "data": {
      "image/png": "[encoded data removed]",
      "text/plain": [
       "<Figure size 480x320 with 2 Axes>"
      ]
     },
     "metadata": {
      "needs_background": "light"
     },
     "output_type": "display_data"
    }
   ],
   "source": [
    "plt.rcParams['figure.dpi'] = 80\n",
    "plot_confusion_matrix(forest, X_val, y_val, values_format='.0f', xticks_rotation='vertical')"
   ]
  },
  {
   "cell_type": "markdown",
   "metadata": {},
   "source": [
    "# Permutation Importance"
   ]
  },
  {
   "cell_type": "code",
   "execution_count": 18,
   "metadata": {},
   "outputs": [
    {
     "data": {
      "text/html": [
       "<div>\n",
       "<style scoped>\n",
       "    .dataframe tbody tr th:only-of-type {\n",
       "        vertical-align: middle;\n",
       "    }\n",
       "\n",
       "    .dataframe tbody tr th {\n",
       "        vertical-align: top;\n",
       "    }\n",
       "\n",
       "    .dataframe thead th {\n",
       "        text-align: right;\n",
       "    }\n",
       "</style>\n",
       "<table border=\"1\" class=\"dataframe\">\n",
       "  <thead>\n",
       "    <tr style=\"text-align: right;\">\n",
       "      <th></th>\n",
       "      <th>feature</th>\n",
       "      <th>importances_mean</th>\n",
       "      <th>importances_std</th>\n",
       "    </tr>\n",
       "  </thead>\n",
       "  <tbody>\n",
       "    <tr>\n",
       "      <th>4</th>\n",
       "      <td>rating</td>\n",
       "      <td>0.109</td>\n",
       "      <td>0.007399</td>\n",
       "    </tr>\n",
       "    <tr>\n",
       "      <th>1</th>\n",
       "      <td>source</td>\n",
       "      <td>0.095</td>\n",
       "      <td>0.005580</td>\n",
       "    </tr>\n",
       "    <tr>\n",
       "      <th>6</th>\n",
       "      <td>num_related</td>\n",
       "      <td>0.062</td>\n",
       "      <td>0.005452</td>\n",
       "    </tr>\n",
       "    <tr>\n",
       "      <th>3</th>\n",
       "      <td>duration</td>\n",
       "      <td>0.060</td>\n",
       "      <td>0.005880</td>\n",
       "    </tr>\n",
       "    <tr>\n",
       "      <th>0</th>\n",
       "      <td>type</td>\n",
       "      <td>0.024</td>\n",
       "      <td>0.005098</td>\n",
       "    </tr>\n",
       "    <tr>\n",
       "      <th>2</th>\n",
       "      <td>episodes</td>\n",
       "      <td>0.020</td>\n",
       "      <td>0.005127</td>\n",
       "    </tr>\n",
       "    <tr>\n",
       "      <th>13</th>\n",
       "      <td>comedy</td>\n",
       "      <td>0.018</td>\n",
       "      <td>0.005513</td>\n",
       "    </tr>\n",
       "    <tr>\n",
       "      <th>5</th>\n",
       "      <td>studio</td>\n",
       "      <td>0.016</td>\n",
       "      <td>0.002691</td>\n",
       "    </tr>\n",
       "    <tr>\n",
       "      <th>7</th>\n",
       "      <td>hentai/romance</td>\n",
       "      <td>0.014</td>\n",
       "      <td>0.004597</td>\n",
       "    </tr>\n",
       "    <tr>\n",
       "      <th>12</th>\n",
       "      <td>fantasy/sci-fi</td>\n",
       "      <td>0.007</td>\n",
       "      <td>0.006621</td>\n",
       "    </tr>\n",
       "    <tr>\n",
       "      <th>11</th>\n",
       "      <td>drama</td>\n",
       "      <td>0.006</td>\n",
       "      <td>0.003018</td>\n",
       "    </tr>\n",
       "    <tr>\n",
       "      <th>14</th>\n",
       "      <td>military</td>\n",
       "      <td>0.005</td>\n",
       "      <td>0.002335</td>\n",
       "    </tr>\n",
       "    <tr>\n",
       "      <th>9</th>\n",
       "      <td>youth</td>\n",
       "      <td>0.005</td>\n",
       "      <td>0.004338</td>\n",
       "    </tr>\n",
       "    <tr>\n",
       "      <th>15</th>\n",
       "      <td>misc</td>\n",
       "      <td>0.005</td>\n",
       "      <td>0.003092</td>\n",
       "    </tr>\n",
       "    <tr>\n",
       "      <th>8</th>\n",
       "      <td>sports</td>\n",
       "      <td>0.002</td>\n",
       "      <td>0.001662</td>\n",
       "    </tr>\n",
       "    <tr>\n",
       "      <th>10</th>\n",
       "      <td>adventure/psychological</td>\n",
       "      <td>-0.000</td>\n",
       "      <td>0.003796</td>\n",
       "    </tr>\n",
       "    <tr>\n",
       "      <th>16</th>\n",
       "      <td>Unknown</td>\n",
       "      <td>0.000</td>\n",
       "      <td>0.000000</td>\n",
       "    </tr>\n",
       "  </tbody>\n",
       "</table>\n",
       "</div>"
      ],
      "text/plain": [
       "                    feature  importances_mean  importances_std\n",
       "4                    rating             0.109         0.007399\n",
       "1                    source             0.095         0.005580\n",
       "6               num_related             0.062         0.005452\n",
       "3                  duration             0.060         0.005880\n",
       "0                      type             0.024         0.005098\n",
       "2                  episodes             0.020         0.005127\n",
       "13                   comedy             0.018         0.005513\n",
       "5                    studio             0.016         0.002691\n",
       "7            hentai/romance             0.014         0.004597\n",
       "12           fantasy/sci-fi             0.007         0.006621\n",
       "11                    drama             0.006         0.003018\n",
       "14                 military             0.005         0.002335\n",
       "9                     youth             0.005         0.004338\n",
       "15                     misc             0.005         0.003092\n",
       "8                    sports             0.002         0.001662\n",
       "10  adventure/psychological            -0.000         0.003796\n",
       "16                  Unknown             0.000         0.000000"
      ]
     },
     "execution_count": 18,
     "metadata": {},
     "output_type": "execute_result"
    }
   ],
   "source": [
    "result = permutation_importance(forest, X_val, y_val, \n",
    "                                n_repeats=5, random_state=42)\n",
    "\n",
    "feat_imp = pd.DataFrame({'feature': X_val.columns,\n",
    "                   'importances_mean': np.round(result['importances_mean'], 3),\n",
    "                   'importances_std': result['importances_std']})\n",
    "\n",
    "feat_imp.sort_values(by='importances_mean', ascending=False)"
   ]
  },
  {
   "cell_type": "markdown",
   "metadata": {},
   "source": [
    "# Feature Importance"
   ]
  },
  {
   "cell_type": "code",
   "execution_count": 22,
   "metadata": {},
   "outputs": [
    {
     "data": {
      "image/png": "[encoded data removed]",
      "text/plain": [
       "<Figure size 800x800 with 1 Axes>"
      ]
     },
     "metadata": {
      "needs_background": "light"
     },
     "output_type": "display_data"
    }
   ],
   "source": [
    "# Get feature importances\n",
    "encoder = OneHotEncoder(use_cat_names=True)\n",
    "data_encoded = encoder.fit_transform(X_train)\n",
    "rf = forest.named_steps['randomforestclassifier']\n",
    "importances = pd.Series(rf.feature_importances_, data_encoded.columns)\n",
    "\n",
    "# Plot feature importances\n",
    "import matplotlib.pyplot as plt\n",
    "\n",
    "n = 20\n",
    "plt.figure(figsize=(10,n/2))\n",
    "plt.title(f'Top {n} features')\n",
    "importances.sort_values()[-n:].plot.barh(color='grey');"
   ]
  },
  {
   "cell_type": "markdown",
   "metadata": {},
   "source": [
    "# Hyperparameter Tuning"
   ]
  },
  {
   "cell_type": "code",
   "execution_count": 28,
   "metadata": {},
   "outputs": [],
   "source": [
    "n_estimators = range(100,2001,100)\n",
    "criterion = ['gini','entropy']\n",
    "max_features = [\"auto\", \"sqrt\", \"log2\"]\n",
    "max_depth = [10,20,30,40,50,60,70,80,90,100,110,\"None\"]\n",
    "min_samples_split = [2,5,10]\n",
    "min_samples_leaf = [1,2,4]\n",
    "bootstrap = [True,False]\n",
    "\n",
    "params = {\n",
    "    'randomforestclassifier__n_estimators':n_estimators,\n",
    "    'randomforestclassifier__criterion':criterion,\n",
    "    'randomforestclassifier__max_features':max_features,\n",
    "    'randomforestclassifier__max_depth':max_depth,\n",
    "    'randomforestclassifier__min_samples_split':min_samples_split,\n",
    "    'randomforestclassifier__min_samples_leaf':min_samples_leaf,\n",
    "    'randomforestclassifier__bootstrap':bootstrap\n",
    "}"
   ]
  },
  {
   "cell_type": "code",
   "execution_count": 30,
   "metadata": {},
   "outputs": [],
   "source": [
    "random_search = RandomizedSearchCV(\n",
    "    estimator=forest,\n",
    "    param_distributions=params,\n",
    "    n_iter = 200,\n",
    "    verbose=1,\n",
    "    n_jobs=-1\n",
    ")"
   ]
  },
  {
   "cell_type": "code",
   "execution_count": 31,
   "metadata": {},
   "outputs": [
    {
     "name": "stdout",
     "output_type": "stream",
     "text": [
      "Fitting 5 folds for each of 200 candidates, totalling 1000 fits\n"
     ]
    },
    {
     "name": "stderr",
     "output_type": "stream",
     "text": [
      "[Parallel(n_jobs=-1)]: Using backend LokyBackend with 16 concurrent workers.\n",
      "[Parallel(n_jobs=-1)]: Done  18 tasks      | elapsed:   16.7s\n",
      "[Parallel(n_jobs=-1)]: Done 168 tasks      | elapsed:  1.7min\n",
      "[Parallel(n_jobs=-1)]: Done 418 tasks      | elapsed:  4.3min\n",
      "[Parallel(n_jobs=-1)]: Done 768 tasks      | elapsed:  8.2min\n",
      "[Parallel(n_jobs=-1)]: Done 1000 out of 1000 | elapsed: 10.5min finished\n"
     ]
    },
    {
     "data": {
      "text/plain": [
       "RandomizedSearchCV(estimator=Pipeline(steps=[('onehotencoder',\n",
       "                                              OneHotEncoder(cols=['type',\n",
       "                                                                  'source',\n",
       "                                                                  'duration',\n",
       "                                                                  'rating',\n",
       "                                                                  'studio'],\n",
       "                                                            use_cat_names=True)),\n",
       "                                             ('randomforestclassifier',\n",
       "                                              RandomForestClassifier(n_jobs=-1,\n",
       "                                                                     random_state=42))]),\n",
       "                   n_iter=200, n_jobs=-1,\n",
       "                   param_distributions={'randomforestclassifier__bootstrap': [True,\n",
       "                                                                              False],\n",
       "                                        'randomforestclassifier__criterion': ['gini',\n",
       "                                                                              'entropy'],\n",
       "                                        'randomforestclassifier__max_depth': [10,\n",
       "                                                                              20,\n",
       "                                                                              30,\n",
       "                                                                              40,\n",
       "                                                                              50,\n",
       "                                                                              60,\n",
       "                                                                              70,\n",
       "                                                                              80,\n",
       "                                                                              90,\n",
       "                                                                              100,\n",
       "                                                                              110,\n",
       "                                                                              'None'],\n",
       "                                        'randomforestclassifier__max_features': ['auto',\n",
       "                                                                                 'sqrt',\n",
       "                                                                                 'log2'],\n",
       "                                        'randomforestclassifier__min_samples_leaf': [1,\n",
       "                                                                                     2,\n",
       "                                                                                     4],\n",
       "                                        'randomforestclassifier__min_samples_split': [2,\n",
       "                                                                                      5,\n",
       "                                                                                      10],\n",
       "                                        'randomforestclassifier__n_estimators': range(100, 2001, 100)},\n",
       "                   verbose=1)"
      ]
     },
     "execution_count": 31,
     "metadata": {},
     "output_type": "execute_result"
    }
   ],
   "source": [
    "#random_search.fit(X_train,y_train);"
   ]
  },
  {
   "cell_type": "code",
   "execution_count": 34,
   "metadata": {},
   "outputs": [
    {
     "data": {
      "text/plain": [
       "{'randomforestclassifier__n_estimators': 300,\n",
       " 'randomforestclassifier__min_samples_split': 10,\n",
       " 'randomforestclassifier__min_samples_leaf': 1,\n",
       " 'randomforestclassifier__max_features': 'log2',\n",
       " 'randomforestclassifier__max_depth': 20,\n",
       " 'randomforestclassifier__criterion': 'gini',\n",
       " 'randomforestclassifier__bootstrap': False}"
      ]
     },
     "execution_count": 34,
     "metadata": {},
     "output_type": "execute_result"
    }
   ],
   "source": [
    "#random_search.best_params_"
   ]
  },
  {
   "cell_type": "code",
   "execution_count": 35,
   "metadata": {},
   "outputs": [
    {
     "data": {
      "text/plain": [
       "0.6552211380284987"
      ]
     },
     "execution_count": 35,
     "metadata": {},
     "output_type": "execute_result"
    }
   ],
   "source": [
    "#random_search.best_score_"
   ]
  },
  {
   "cell_type": "markdown",
   "metadata": {},
   "source": [
    "# New model"
   ]
  },
  {
   "cell_type": "code",
   "execution_count": 36,
   "metadata": {},
   "outputs": [],
   "source": [
    "hyper_forest = make_pipeline(OneHotEncoder(use_cat_names=True),\n",
    "                      RandomForestClassifier(n_jobs=-1,random_state=42,\n",
    "                                            n_estimators=300,min_samples_split=10,\n",
    "                                            min_samples_leaf=1,max_features='log2',\n",
    "                                            max_depth=20,criterion='gini',\n",
    "                                            bootstrap=False))"
   ]
  },
  {
   "cell_type": "code",
   "execution_count": 37,
   "metadata": {},
   "outputs": [],
   "source": [
    "hyper_forest.fit(X_train,y_train);"
   ]
  },
  {
   "cell_type": "code",
   "execution_count": 39,
   "metadata": {},
   "outputs": [
    {
     "name": "stdout",
     "output_type": "stream",
     "text": [
      "Basline: 0.43687834736036724\n",
      "\n",
      "Base model train score: 0.9628921193573068\n",
      "Tuned train score: 0.883416220351951\n",
      "\n",
      "Base model val score: 0.6705314009661836\n",
      "Tuned val score: 0.6830917874396135\n",
      "\n",
      "Base model test score: 0.66327329678935\n",
      "Tuned test score: 0.6742364917776038\n"
     ]
    }
   ],
   "source": [
    "print(f\"Basline: {baseline}\\n\")\n",
    "print(f\"Base model train score: {forest.score(X_train,y_train)}\")\n",
    "print(f\"Tuned train score: {hyper_forest.score(X_train,y_train)}\\n\")\n",
    "print(f\"Base model val score: {forest.score(X_val,y_val)}\")\n",
    "print(f\"Tuned val score: {hyper_forest.score(X_val,y_val)}\\n\")\n",
    "print(f\"Base model test score: {forest.score(X_test,y_test)}\")\n",
    "print(f\"Tuned test score: {hyper_forest.score(X_test,y_test)}\")"
   ]
  },
  {
   "cell_type": "markdown",
   "metadata": {},
   "source": [
    "# Saving model"
   ]
  },
  {
   "cell_type": "code",
   "execution_count": 40,
   "metadata": {},
   "outputs": [],
   "source": [
    "import pickle"
   ]
  },
  {
   "cell_type": "code",
   "execution_count": 41,
   "metadata": {},
   "outputs": [],
   "source": [
    "with open('tuned_forest',\"wb\") as myfile:\n",
    "    pickle.dump(hyper_forest,myfile)"
   ]
  }
 ],
 "metadata": {
  "kernelspec": {
   "display_name": "Python 3",
   "language": "python",
   "name": "python3"
  },
  "language_info": {
   "codemirror_mode": {
    "name": "ipython",
    "version": 3
   },
   "file_extension": ".py",
   "mimetype": "text/x-python",
   "name": "python",
   "nbconvert_exporter": "python",
   "pygments_lexer": "ipython3",
   "version": "3.8.0"
  }
 },
 "nbformat": 4,
 "nbformat_minor": 4
}

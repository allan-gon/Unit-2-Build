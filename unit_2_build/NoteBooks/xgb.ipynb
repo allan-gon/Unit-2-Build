{
 "cells": [
  {
   "cell_type": "markdown",
   "metadata": {},
   "source": [
    "# Imports"
   ]
  },
  {
   "cell_type": "code",
   "execution_count": 1,
   "metadata": {},
   "outputs": [],
   "source": [
    "import numpy as np\n",
    "import pandas as pd\n",
    "import matplotlib.pyplot as plt"
   ]
  },
  {
   "cell_type": "code",
   "execution_count": 2,
   "metadata": {},
   "outputs": [],
   "source": [
    "from sklearn.pipeline import make_pipeline\n",
    "from category_encoders import OneHotEncoder\n",
    "\n",
    "from xgboost import XGBClassifier"
   ]
  },
  {
   "cell_type": "code",
   "execution_count": 3,
   "metadata": {},
   "outputs": [],
   "source": [
    "from sklearn.metrics import classification_report, confusion_matrix, plot_confusion_matrix\n",
    "from sklearn.model_selection import train_test_split, RandomizedSearchCV\n",
    "from sklearn.inspection import permutation_importance"
   ]
  },
  {
   "cell_type": "markdown",
   "metadata": {},
   "source": [
    "# Read in Data"
   ]
  },
  {
   "cell_type": "code",
   "execution_count": 4,
   "metadata": {},
   "outputs": [],
   "source": [
    "df = pd.read_csv(\"../DATA/clean.csv\")"
   ]
  },
  {
   "cell_type": "markdown",
   "metadata": {},
   "source": [
    "# TTS"
   ]
  },
  {
   "cell_type": "code",
   "execution_count": 5,
   "metadata": {},
   "outputs": [],
   "source": [
    "X, X_test, y, y_test = train_test_split(df.drop('class',axis=1),\n",
    "                                        df['class'],test_size =.1,\n",
    "                                       random_state=42)\n",
    "\n",
    "X_train, X_val, y_train, y_val = train_test_split(X,y,test_size=.09,\n",
    "                                                 random_state=42)"
   ]
  },
  {
   "cell_type": "markdown",
   "metadata": {},
   "source": [
    "# Baseline"
   ]
  },
  {
   "cell_type": "code",
   "execution_count": 6,
   "metadata": {},
   "outputs": [],
   "source": [
    "baseline = y_train.value_counts(normalize=True).max()"
   ]
  },
  {
   "cell_type": "markdown",
   "metadata": {},
   "source": [
    "# XGB Classifier"
   ]
  },
  {
   "cell_type": "code",
   "execution_count": 7,
   "metadata": {},
   "outputs": [],
   "source": [
    "xgb = make_pipeline(OneHotEncoder(use_cat_names=True),\n",
    "                    XGBClassifier(n_jobs=-1,random_state=42))"
   ]
  },
  {
   "cell_type": "code",
   "execution_count": 8,
   "metadata": {},
   "outputs": [],
   "source": [
    "xgb.fit(X_train,y_train);"
   ]
  },
  {
   "cell_type": "markdown",
   "metadata": {},
   "source": [
    "# Metrics"
   ]
  },
  {
   "cell_type": "code",
   "execution_count": 9,
   "metadata": {},
   "outputs": [
    {
     "name": "stdout",
     "output_type": "stream",
     "text": [
      "Baseline: 0.43687834736036724\n",
      "\n",
      "Train Score: 0.8126434583014537\n",
      "Val score: 0.6888888888888889\n",
      "Test Score: 0.6812842599843383\n"
     ]
    }
   ],
   "source": [
    "print(f\"Baseline: {baseline}\\n\")\n",
    "print(f\"Train Score: {xgb.score(X_train,y_train)}\")\n",
    "print(f\"Val score: {xgb.score(X_val,y_val)}\")\n",
    "print(f\"Test Score: {xgb.score(X_test,y_test)}\")"
   ]
  },
  {
   "cell_type": "markdown",
   "metadata": {},
   "source": [
    "# Hyperparameter Tuning"
   ]
  },
  {
   "cell_type": "code",
   "execution_count": 10,
   "metadata": {},
   "outputs": [],
   "source": [
    "params = {\n",
    "    'xgbclassifier__booster':['gbtree','gblinear','dart'],\n",
    "    'xgbclassifier__eta':[.1,.3,.5,.7,.9,1,2,3],\n",
    "    'xgbclassifier__gamma':[0,.5,1,3,5,10],\n",
    "    'xgbclassifier__max_depth':[2,4,6,10,30,50,100,None],\n",
    "    'xgbclassifier__min_child_weight':[0,1,3,5,7,15,30],\n",
    "    'xgbclassifier__max_delta_step':[0,2,4,6,8,10],\n",
    "    'xgbclassifier__sampling_method':['uniform','gradient_based']\n",
    "}"
   ]
  },
  {
   "cell_type": "code",
   "execution_count": 11,
   "metadata": {},
   "outputs": [],
   "source": [
    "random_search = RandomizedSearchCV(\n",
    "    estimator=xgb,\n",
    "    param_distributions=params,\n",
    "    n_iter = 333,\n",
    "    verbose=1,\n",
    "    n_jobs=-1,\n",
    "    random_state=42,\n",
    "    cv=3\n",
    ")"
   ]
  },
  {
   "cell_type": "code",
   "execution_count": 12,
   "metadata": {},
   "outputs": [],
   "source": [
    "#random_search.fit(X_train,y_train);"
   ]
  },
  {
   "cell_type": "code",
   "execution_count": 13,
   "metadata": {},
   "outputs": [],
   "source": [
    "#random_search.best_params_"
   ]
  },
  {
   "cell_type": "markdown",
   "metadata": {},
   "source": [
    "# Lost my local copy of the tuned, but it was tahnkfully still on github"
   ]
  },
  {
   "cell_type": "code",
   "execution_count": 14,
   "metadata": {},
   "outputs": [],
   "source": [
    "hyper_xgb = make_pipeline(OneHotEncoder(use_cat_names=True),\n",
    "                    XGBClassifier(n_jobs=-1,random_state=42,sampling_method='uniform',\n",
    "                                  min_child_weight=15,max_depth=None,max_delta_step=0,\n",
    "                                  gamma=0,eta=2,booster='gbtree'))"
   ]
  },
  {
   "cell_type": "code",
   "execution_count": 15,
   "metadata": {},
   "outputs": [],
   "source": [
    "hyper_xgb.fit(X_train,y_train);"
   ]
  },
  {
   "cell_type": "code",
   "execution_count": 16,
   "metadata": {},
   "outputs": [
    {
     "name": "stdout",
     "output_type": "stream",
     "text": [
      "Baseline: 0.43687834736036724\n",
      "\n",
      "Train Score: 0.43687834736036724\n",
      "Val score: 0.41642512077294686\n",
      "Test Score: 0.44322631166797183\n"
     ]
    }
   ],
   "source": [
    "print(f\"Baseline: {baseline}\\n\")\n",
    "print(f\"Train Score: {hyper_xgb.score(X_train,y_train)}\")\n",
    "print(f\"Val score: {hyper_xgb.score(X_val,y_val)}\")\n",
    "print(f\"Test Score: {hyper_xgb.score(X_test,y_test)}\")"
   ]
  },
  {
   "cell_type": "code",
   "execution_count": 17,
   "metadata": {},
   "outputs": [],
   "source": [
    "import pickle\n",
    "\n",
    "with open('../Models/xgb',\"wb\") as myfile:\n",
    "    pickle.dump(xgb,myfile)"
   ]
  },
  {
   "cell_type": "code",
   "execution_count": 18,
   "metadata": {},
   "outputs": [],
   "source": [
    "import pickle\n",
    "\n",
    "with open('../Models/hyper_xgb',\"wb\") as myfile:\n",
    "    pickle.dump(hyper_xgb,myfile)"
   ]
  }
 ],
 "metadata": {
  "kernelspec": {
   "display_name": "Python 3",
   "language": "python",
   "name": "python3"
  },
  "language_info": {
   "codemirror_mode": {
    "name": "ipython",
    "version": 3
   },
   "file_extension": ".py",
   "mimetype": "text/x-python",
   "name": "python",
   "nbconvert_exporter": "python",
   "pygments_lexer": "ipython3",
   "version": "3.8.0"
  }
 },
 "nbformat": 4,
 "nbformat_minor": 4
}
